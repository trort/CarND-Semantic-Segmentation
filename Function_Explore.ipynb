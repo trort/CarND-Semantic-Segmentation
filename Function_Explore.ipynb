{
 "cells": [
  {
   "cell_type": "code",
   "execution_count": 1,
   "metadata": {},
   "outputs": [],
   "source": [
    "import os.path\n",
    "import tensorflow as tf\n",
    "import helper\n",
    "import warnings\n",
    "from distutils.version import LooseVersion\n",
    "import project_tests as tests"
   ]
  },
  {
   "cell_type": "code",
   "execution_count": 2,
   "metadata": {},
   "outputs": [
    {
     "name": "stdout",
     "output_type": "stream",
     "text": [
      "TensorFlow Version: 1.4.0\n"
     ]
    }
   ],
   "source": [
    "assert LooseVersion(tf.__version__) >= LooseVersion('1.0'), 'Please use TensorFlow version 1.0 or newer.  You are using {}'.format(tf.__version__)\n",
    "print('TensorFlow Version: {}'.format(tf.__version__))"
   ]
  },
  {
   "cell_type": "code",
   "execution_count": 3,
   "metadata": {},
   "outputs": [],
   "source": [
    "# download data\n",
    "data_dir = './data'\n",
    "helper.maybe_download_pretrained_vgg(data_dir)"
   ]
  },
  {
   "cell_type": "code",
   "execution_count": 4,
   "metadata": {},
   "outputs": [
    {
     "name": "stdout",
     "output_type": "stream",
     "text": [
      "Tests Passed\n"
     ]
    }
   ],
   "source": [
    "tests.test_for_kitti_dataset(data_dir)"
   ]
  },
  {
   "cell_type": "code",
   "execution_count": 5,
   "metadata": {},
   "outputs": [
    {
     "name": "stdout",
     "output_type": "stream",
     "text": [
      "Tests Passed\n"
     ]
    }
   ],
   "source": [
    "def load_vgg(sess, vgg_path):\n",
    "    \"\"\"\n",
    "    Load Pretrained VGG Model into TensorFlow.\n",
    "    :param sess: TensorFlow Session\n",
    "    :param vgg_path: Path to vgg folder, containing \"variables/\" and \"saved_model.pb\"\n",
    "    :return: Tuple of Tensors from VGG model (image_input, keep_prob, layer3_out, layer4_out, layer7_out)\n",
    "    \"\"\"\n",
    "    # TODO: Implement function\n",
    "    #   Use tf.saved_model.loader.load to load the model and weights\n",
    "    vgg_tag = 'vgg16'\n",
    "    vgg_input_tensor_name = 'image_input:0'\n",
    "    vgg_keep_prob_tensor_name = 'keep_prob:0'\n",
    "    vgg_layer3_out_tensor_name = 'layer3_out:0'\n",
    "    vgg_layer4_out_tensor_name = 'layer4_out:0'\n",
    "    vgg_layer7_out_tensor_name = 'layer7_out:0'\n",
    "    \n",
    "    tf.saved_model.loader.load(sess, [vgg_tag], vgg_path)\n",
    "    graph = tf.get_default_graph()\n",
    "    image_input = graph.get_tensor_by_name(vgg_input_tensor_name)\n",
    "    keep_prob = graph.get_tensor_by_name(vgg_keep_prob_tensor_name)\n",
    "    layer3_out = graph.get_tensor_by_name(vgg_layer3_out_tensor_name)\n",
    "    layer4_out = graph.get_tensor_by_name(vgg_layer4_out_tensor_name)\n",
    "    layer7_out = graph.get_tensor_by_name(vgg_layer7_out_tensor_name)\n",
    "    \n",
    "    return image_input, keep_prob, layer3_out, layer4_out, layer7_out\n",
    "tests.test_load_vgg(load_vgg, tf)"
   ]
  },
  {
   "cell_type": "code",
   "execution_count": 6,
   "metadata": {},
   "outputs": [
    {
     "name": "stdout",
     "output_type": "stream",
     "text": [
      "Tests Passed\n"
     ]
    }
   ],
   "source": [
    "def layers(vgg_layer3_out, vgg_layer4_out, vgg_layer7_out, num_classes):\n",
    "    \"\"\"\n",
    "    Create the layers for a fully convolutional network.  Build skip-layers using the vgg layers.\n",
    "    :param vgg_layer3_out: TF Tensor for VGG Layer 3 output\n",
    "    :param vgg_layer4_out: TF Tensor for VGG Layer 4 output\n",
    "    :param vgg_layer7_out: TF Tensor for VGG Layer 7 output\n",
    "    :param num_classes: Number of classes to classify\n",
    "    :return: The Tensor for the last layer of output\n",
    "    \"\"\"\n",
    "    # TODO: Implement function\n",
    "    l2_regularizer = tf.contrib.layers.l2_regularizer(1E-3)\n",
    "    conv_1x1_layer7 = tf.layers.conv2d(vgg_layer7_out, num_classes, 1, 1, padding=\"same\", kernel_regularizer=l2_regularizer)\n",
    "    upsample_layer7 = tf.layers.conv2d_transpose(conv_1x1_layer7, num_classes, 4, (2, 2), padding=\"same\", kernel_regularizer=l2_regularizer)\n",
    "\n",
    "    layer4_out_scaled = tf.multiply(vgg_layer4_out, 0.01, name='layer4_out_scaled')\n",
    "    conv_1x1_layer4 = tf.layers.conv2d(layer4_out_scaled, num_classes, 1, 1, padding=\"same\", kernel_regularizer=l2_regularizer)\n",
    "    blended_layer4 = tf.add(conv_1x1_layer4, upsample_layer7)\n",
    "    upsample_layer4 = tf.layers.conv2d_transpose(blended_layer4, num_classes, 4, (2, 2), padding=\"same\", kernel_regularizer=l2_regularizer)\n",
    "\n",
    "    layer3_out_scaled = tf.multiply(vgg_layer3_out, 0.0001, name='layer3_out_scaled')\n",
    "    conv_1x1_layer3 = tf.layers.conv2d(vgg_layer3_out, num_classes, 1, 1, padding=\"same\", kernel_regularizer=l2_regularizer)\n",
    "    blended_layer3 = tf.add(conv_1x1_layer3, upsample_layer4)\n",
    "    upsample_layer3 = tf.layers.conv2d_transpose(blended_layer3, num_classes, 16, (8, 8), padding=\"same\", kernel_regularizer=l2_regularizer)\n",
    "\n",
    "    # tf.Print(output, [tf.shape(output)])\n",
    "    return upsample_layer3\n",
    "tests.test_layers(layers)"
   ]
  },
  {
   "cell_type": "code",
   "execution_count": 7,
   "metadata": {},
   "outputs": [
    {
     "name": "stdout",
     "output_type": "stream",
     "text": [
      "Tests Passed\n"
     ]
    }
   ],
   "source": [
    "def optimize(nn_last_layer, correct_label, learning_rate, num_classes):\n",
    "    \"\"\"\n",
    "    Build the TensorFLow loss and optimizer operations.\n",
    "    :param nn_last_layer: TF Tensor of the last layer in the neural network\n",
    "    :param correct_label: TF Placeholder for the correct label image\n",
    "    :param learning_rate: TF Placeholder for the learning rate\n",
    "    :param num_classes: Number of classes to classify\n",
    "    :return: Tuple of (logits, train_op, cross_entropy_loss)\n",
    "    \"\"\"\n",
    "    # TODO: Implement function\n",
    "    logits = tf.reshape(nn_last_layer, (-1, num_classes))            # no need to reshape actually\n",
    "    labels = tf.reshape(correct_label, (-1, num_classes))\n",
    "    cross_entropy_loss = tf.reduce_mean(tf.nn.softmax_cross_entropy_with_logits(\n",
    "                                        logits=nn_last_layer, labels=correct_label))\n",
    "    # IMPORTANT: need to manually add regularization loss to total loss\n",
    "    reg_losses = tf.get_collection(tf.GraphKeys.REGULARIZATION_LOSSES)\n",
    "    total_loss = tf.add_n([cross_entropy_loss] + reg_losses)\n",
    "    optimizer = tf.train.AdamOptimizer(learning_rate = learning_rate)\n",
    "    train_op = optimizer.minimize(total_loss)\n",
    "    return logits, train_op, total_loss\n",
    "tests.test_optimize(optimize)"
   ]
  },
  {
   "cell_type": "code",
   "execution_count": 31,
   "metadata": {},
   "outputs": [],
   "source": [
    "import time\n",
    "def train_nn(sess, epochs, batch_size, get_batches_fn, train_op, cross_entropy_loss, input_image,\n",
    "             correct_label, keep_prob, learning_rate):\n",
    "    \"\"\"\n",
    "    Train neural network and print out the loss during training.\n",
    "    :param sess: TF Session\n",
    "    :param epochs: Number of epochs\n",
    "    :param batch_size: Batch size\n",
    "    :param get_batches_fn: Function to get batches of training data.  Call using get_batches_fn(batch_size)\n",
    "    :param train_op: TF Operation to train the neural network\n",
    "    :param cross_entropy_loss: TF Tensor for the amount of loss\n",
    "    :param input_image: TF Placeholder for input images\n",
    "    :param correct_label: TF Placeholder for label images\n",
    "    :param keep_prob: TF Placeholder for dropout keep probability\n",
    "    :param learning_rate: TF Placeholder for learning rate\n",
    "    \"\"\"\n",
    "    # TODO: Implement function\n",
    "    for epoch in range(epochs):\n",
    "        print(\"****************** Starting Epoch {} *******************\".format(epoch+1))\n",
    "        t0 = time.time()\n",
    "        for images, labels in get_batches_fn(batch_size):\n",
    "            _, loss = sess.run([train_op, cross_entropy_loss],\n",
    "                               feed_dict ={input_image: images, correct_label: labels,\n",
    "                                           keep_prob: 0.5, learning_rate: 0.001})\n",
    "            print(\"Current loss is {}\".format(loss))\n",
    "            ti = time.time()\n",
    "            print(\"{}s has past for this epoch\".format(ti - t0))\n",
    "        print(\"Total loss after epoch {} is {}\".format(epoch+1, loss))\n",
    "\n",
    "tests.test_train_nn(train_nn)"
   ]
  },
  {
   "cell_type": "code",
   "execution_count": 24,
   "metadata": {},
   "outputs": [],
   "source": [
    "restart = False\n",
    "train_stage = False\n",
    "num_classes = 2\n",
    "image_shape = (160, 576)\n",
    "data_dir = './data'\n",
    "runs_dir = './runs'\n",
    "tests.test_for_kitti_dataset(data_dir)\n",
    "\n",
    "# Download pretrained vgg model\n",
    "helper.maybe_download_pretrained_vgg(data_dir)\n",
    "\n",
    "ckpt_prefix = './tmp/'\n",
    "\n",
    "# OPTIONAL: Train and Inference on the cityscapes dataset instead of the Kitti dataset.\n",
    "# You'll need a GPU with at least 10 teraFLOPS to train on.\n",
    "#  https://www.cityscapes-dataset.com/\n",
    "\n",
    "# Path to vgg model\n",
    "vgg_path = os.path.join(data_dir, 'vgg')\n",
    "# Create function to get batches\n",
    "get_batches_fn = helper.gen_batch_function(os.path.join(data_dir, 'data_road/training'), image_shape)\n",
    "\n",
    "# OPTIONAL: Augment Images for better results\n",
    "#  https://datascience.stackexchange.com/questions/5224/how-to-prepare-augment-images-for-neural-network\n"
   ]
  },
  {
   "cell_type": "code",
   "execution_count": 30,
   "metadata": {},
   "outputs": [],
   "source": [
    "with tf.Session() as sess:\n",
    "    # Build NN using load_vgg, layers, and optimize function\n",
    "    image_input, keep_prob, layer3_out, layer4_out, layer7_out = load_vgg(sess, vgg_path)\n",
    "    output_layer = layers(layer3_out, layer4_out, layer7_out, num_classes)\n",
    "    correct_label = tf.placeholder(tf.float32, [None, None, None, num_classes])\n",
    "    learning_rate = tf.placeholder(tf.float32)\n",
    "    logits, train_op, total_loss = optimize(output_layer, correct_label, learning_rate, num_classes)\n",
    "    mean_iou, iou_update_op = tf.metrics.mean_iou(tf.reshape(correct_label, (-1, num_classes)), tf.nn.softmax(logits), num_classes)\n",
    "    print(\"NN constructed!\")\n",
    "\n",
    "    # Train NN using the train_nn function\n",
    "    sess.run(tf.global_variables_initializer())\n",
    "    sess.run(tf.local_variables_initializer())\n",
    "    \n",
    "    saver = tf.train.Saver(max_to_keep = 5, keep_checkpoint_every_n_hours = 3)\n",
    "    latest_checkpoint = tf.train.latest_checkpoint(ckpt_prefix)\n",
    "    if latest_checkpoint and not restart:\n",
    "        print(\"Restoring from {}\".format(latest_checkpoint))\n",
    "        saver.restore(sess, latest_checkpoint)\n",
    "        print(\"Session Restored!\")\n",
    "    n_epoch = 10\n",
    "    batch_size = 20\n",
    "    if train_stage:\n",
    "        train_nn(sess, n_epoch, batch_size, get_batches_fn, train_op, total_loss, image_input,\n",
    "            correct_label, keep_prob, learning_rate)\n",
    "        # Save trained NN to continue next time\n",
    "        saver.save(sess, ckpt_prefix + 'sess.ckpt')\n",
    "        print(\"Session Saved!\")\n",
    "\n",
    "    # Calculate IOU\n",
    "    for images, labels in get_batches_fn(2):\n",
    "        sess.run(iou_update_op, feed_dict={image_input: images, correct_label: labels,\n",
    "                                           keep_prob: 1.0,})\n",
    "        break\n",
    "    iou_score = sess.run(mean_iou)\n",
    "    print(\"Mean IOU score is: {}\".format(iou_score))"
   ]
  },
  {
   "cell_type": "code",
   "execution_count": 23,
   "metadata": {},
   "outputs": [
    {
     "data": {
      "text/plain": [
       "'./tmp/sess.ckpt'"
      ]
     },
     "execution_count": 23,
     "metadata": {},
     "output_type": "execute_result"
    }
   ],
   "source": [
    "tf.train.latest_checkpoint('./tmp/')"
   ]
  },
  {
   "cell_type": "code",
   "execution_count": 29,
   "metadata": {},
   "outputs": [],
   "source": [
    "tf.reset_default_graph()"
   ]
  },
  {
   "cell_type": "code",
   "execution_count": null,
   "metadata": {},
   "outputs": [],
   "source": [
    "from moviepy.editor import VideoFileClip\n",
    "import scipy\n",
    "clip = VideoFileClip('driving.mp4').subclip(0,1)\n",
    "    \n",
    "def process_video(sess, logits, keep_prob, image_pl, image_shape, clip):\n",
    "    def image_pipeline(img):\n",
    "        image = scipy.misc.imresize(img, image_shape)\n",
    "        im_softmax = sess.run(\n",
    "                [tf.nn.softmax(logits)],\n",
    "                {keep_prob: 1.0, image_pl: [image]})\n",
    "        im_softmax = im_softmax[0][:, 1].reshape(image_shape[0], image_shape[1])\n",
    "        segmentation = (im_softmax > 0.5).reshape(image_shape[0], image_shape[1], 1)\n",
    "        mask = np.dot(segmentation, np.array([[0, 255, 0, 127]]))\n",
    "        mask = scipy.misc.toimage(mask, mode=\"RGBA\")\n",
    "        street_im = scipy.misc.toimage(image)\n",
    "        street_im.paste(mask, box=None, mask=mask)\n",
    "        return np.array(street_im)\n",
    "    new_clip = clip.fl_image(image_pipeline)\n",
    "    new_clip.write_videofile('result.mp4')"
   ]
  }
 ],
 "metadata": {
  "kernelspec": {
   "display_name": "Python 3",
   "language": "python",
   "name": "python3"
  }
 },
 "nbformat": 4,
 "nbformat_minor": 2
}
